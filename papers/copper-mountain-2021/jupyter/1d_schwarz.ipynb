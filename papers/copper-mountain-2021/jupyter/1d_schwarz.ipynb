{
 "cells": [
  {
   "cell_type": "markdown",
   "metadata": {},
   "source": [
    "# Jacobi Example"
   ]
  },
  {
   "cell_type": "code",
   "execution_count": 33,
   "metadata": {
    "scrolled": true
   },
   "outputs": [],
   "source": [
    "# dependencies\n",
    "using LFAToolkit\n",
    "using LinearAlgebra\n",
    "using Pkg\n",
    "#Pkg.activate(\"./\")\n",
    "#Pkg.instantiate()\n",
    "using Plots"
   ]
  },
  {
   "cell_type": "markdown",
   "metadata": {},
   "source": [
    "## Spectrum of Symbol, p=2"
   ]
  },
  {
   "cell_type": "code",
   "execution_count": 34,
   "metadata": {
    "code_folding": [
     7
    ]
   },
   "outputs": [
    {
     "ename": "UndefVarError",
     "evalue": "UndefVarError: Schwarz not defined",
     "output_type": "error",
     "traceback": [
      "\n",
      "Stacktrace:\n",
      " [1] top-level scope at /home/malachi/develop/LFAToolkit.jl/papers/copper-mountain-2021/jupyter/1d_schwarz.ipynb:10\n",
      " [2] include_string(::Module, ::String, ::String) at ./loading.jl:1080\n",
      " [3] #invokelatest#1 at ./essentials.jl:712 [inlined]\n",
      " [4] invokelatest at ./essentials.jl:711 [inlined]\n",
      " [5] (::VSCodeServer.var\"#98#99\"{VSCodeServer.NotebookRunCellArguments,String})() at /home/malachi/.vscode/extensions/julialang.language-julia-1.4.3/scripts/packages/VSCodeServer/src/serve_notebook.jl:18\n",
      " [6] withpath(::VSCodeServer.var\"#98#99\"{VSCodeServer.NotebookRunCellArguments,String}, ::String) at /home/malachi/.vscode/extensions/julialang.language-julia-1.4.3/scripts/packages/VSCodeServer/src/repl.jl:185\n",
      " [7] notebook_runcell_request(::VSCodeServer.JSONRPC.JSONRPCEndpoint{Base.PipeEndpoint,Base.PipeEndpoint}, ::VSCodeServer.NotebookRunCellArguments) at /home/malachi/.vscode/extensions/julialang.language-julia-1.4.3/scripts/packages/VSCodeServer/src/serve_notebook.jl:14\n",
      " [8] dispatch_msg(::VSCodeServer.JSONRPC.JSONRPCEndpoint{Base.PipeEndpoint,Base.PipeEndpoint}, ::VSCodeServer.JSONRPC.MsgDispatcher, ::Dict{String,Any}) at /home/malachi/.vscode/extensions/julialang.language-julia-1.4.3/scripts/packages/JSONRPC/src/typed.jl:67\n",
      " [9] serve_notebook(::String; crashreporting_pipename::String) at /home/malachi/.vscode/extensions/julialang.language-julia-1.4.3/scripts/packages/VSCodeServer/src/serve_notebook.jl:94\n",
      " [10] top-level scope at /home/malachi/.vscode/extensions/julialang.language-julia-1.4.3/scripts/notebook/notebook.jl:10\n",
      " [11] include(::Module, ::String) at ./Base.jl:377\n",
      " [12] exec_options(::Base.JLOptions) at ./client.jl:288\n",
      " [13] _start() at ./client.jl:484"
     ]
    }
   ],
   "source": [
    "# setup\n",
    "p = 2\n",
    "dimension = 1\n",
    "mesh = Mesh1D(1.0)\n",
    "\n",
    "# operator\n",
    "diffusion = GalleryOperator(\"diffusion\", p+1, p+1, mesh)\n",
    "\n",
    "# Schwarz smoother\n",
    "schwarz = Schwarz(diffusion)"
   ]
  },
  {
   "cell_type": "code",
   "execution_count": 22,
   "metadata": {
    "code_folding": [
     14,
     16,
     25
    ]
   },
   "outputs": [
    {
     "ename": "UndefVarError",
     "evalue": "UndefVarError: schwarz not defined",
     "output_type": "error",
     "traceback": [
      "\n",
      "Stacktrace:\n",
      " [1] top-level scope at /home/malachi/develop/LFAToolkit.jl/papers/copper-mountain-2021/jupyter/1d_schwarz.ipynb:18\n",
      " [2] include_string(::Module, ::String, ::String) at ./loading.jl:1080\n",
      " [3] #invokelatest#1 at ./essentials.jl:712 [inlined]\n",
      " [4] invokelatest at ./essentials.jl:711 [inlined]\n",
      " [5] (::VSCodeServer.var\"#98#99\"{VSCodeServer.NotebookRunCellArguments,String})() at /home/malachi/.vscode/extensions/julialang.language-julia-1.4.3/scripts/packages/VSCodeServer/src/serve_notebook.jl:18\n",
      " [6] withpath(::VSCodeServer.var\"#98#99\"{VSCodeServer.NotebookRunCellArguments,String}, ::String) at /home/malachi/.vscode/extensions/julialang.language-julia-1.4.3/scripts/packages/VSCodeServer/src/repl.jl:185\n",
      " [7] notebook_runcell_request(::VSCodeServer.JSONRPC.JSONRPCEndpoint{Base.PipeEndpoint,Base.PipeEndpoint}, ::VSCodeServer.NotebookRunCellArguments) at /home/malachi/.vscode/extensions/julialang.language-julia-1.4.3/scripts/packages/VSCodeServer/src/serve_notebook.jl:14\n",
      " [8] dispatch_msg(::VSCodeServer.JSONRPC.JSONRPCEndpoint{Base.PipeEndpoint,Base.PipeEndpoint}, ::VSCodeServer.JSONRPC.MsgDispatcher, ::Dict{String,Any}) at /home/malachi/.vscode/extensions/julialang.language-julia-1.4.3/scripts/packages/JSONRPC/src/typed.jl:67\n",
      " [9] serve_notebook(::String; crashreporting_pipename::String) at /home/malachi/.vscode/extensions/julialang.language-julia-1.4.3/scripts/packages/VSCodeServer/src/serve_notebook.jl:94\n",
      " [10] top-level scope at /home/malachi/.vscode/extensions/julialang.language-julia-1.4.3/scripts/notebook/notebook.jl:10\n",
      " [11] include(::Module, ::String) at ./Base.jl:377\n",
      " [12] exec_options(::Base.JLOptions) at ./client.jl:288\n",
      " [13] _start() at ./client.jl:484"
     ]
    }
   ],
   "source": [
    "# full operator symbols\n",
    "numbersteps = 250\n",
    "maxeigenvalue = 0\n",
    "θ_min = -π/2\n",
    "θ_max = 3π/2\n",
    "θ_step = 2π/(numbersteps-1)\n",
    "θ_range = θ_min:θ_step:θ_max\n",
    "\n",
    "# compute and plot smoothing factor\n",
    "# setup\n",
    "ω = []\n",
    "eigenvalues = zeros(numbersteps, p)\n",
    "\n",
    "# compute\n",
    "for i in 1:numbersteps\n",
    "    θ = [θ_range[i]]\n",
    "    if abs(θ[1]) >  π/512\n",
    "        A = computesymbols(schwarz, ω, θ)\n",
    "        currenteigenvalues = [real(val) for val in eigvals(I-A)]\n",
    "        eigenvalues[i, :] = currenteigenvalues\n",
    "    end\n",
    "end\n",
    "\n",
    "# plot\n",
    "xrange = θ_range/π\n",
    "plot(\n",
    "    xrange,\n",
    "    xlabel=\"θ/π\",\n",
    "    xtickfont=font(12, \"Courier\"),\n",
    "    eigenvalues,\n",
    "    ytickfont=font(12, \"Courier\"),\n",
    "    ylabel=\"λ\",\n",
    "    linewidth=3,\n",
    "    legend=:none,\n",
    "    title=\"Spectrum of (Non-Overlapping) Schwarz Symbol\",\n",
    "    palette=palette(:tab10)\n",
    ")\n",
    "ylims!(min(0.0, eigenvalues...) * 1.1, max(eigenvalues...) * 1.1)"
   ]
  },
  {
   "cell_type": "code",
   "execution_count": 23,
   "metadata": {},
   "outputs": [
    {
     "ename": "ErrorException",
     "evalue": "No current plot/subplot",
     "output_type": "error",
     "traceback": [
      "\n",
      "Stacktrace:\n",
      " [1] error(::String) at ./error.jl:33\n",
      " [2] current at /home/malachi/.julia/packages/Plots/uCh2y/src/plot.jl:15 [inlined]\n",
      " [3] savefig(::String) at /home/malachi/.julia/packages/Plots/uCh2y/src/output.jl:129\n",
      " [4] top-level scope at /home/malachi/develop/LFAToolkit.jl/papers/copper-mountain-2021/jupyter/1d_schwarz.ipynb:1\n",
      " [5] include_string(::Module, ::String, ::String) at ./loading.jl:1080\n",
      " [6] #invokelatest#1 at ./essentials.jl:712 [inlined]\n",
      " [7] invokelatest at ./essentials.jl:711 [inlined]\n",
      " [8] (::VSCodeServer.var\"#98#99\"{VSCodeServer.NotebookRunCellArguments,String})() at /home/malachi/.vscode/extensions/julialang.language-julia-1.4.3/scripts/packages/VSCodeServer/src/serve_notebook.jl:18\n",
      " [9] withpath(::VSCodeServer.var\"#98#99\"{VSCodeServer.NotebookRunCellArguments,String}, ::String) at /home/malachi/.vscode/extensions/julialang.language-julia-1.4.3/scripts/packages/VSCodeServer/src/repl.jl:185\n",
      " [10] notebook_runcell_request(::VSCodeServer.JSONRPC.JSONRPCEndpoint{Base.PipeEndpoint,Base.PipeEndpoint}, ::VSCodeServer.NotebookRunCellArguments) at /home/malachi/.vscode/extensions/julialang.language-julia-1.4.3/scripts/packages/VSCodeServer/src/serve_notebook.jl:14\n",
      " [11] dispatch_msg(::VSCodeServer.JSONRPC.JSONRPCEndpoint{Base.PipeEndpoint,Base.PipeEndpoint}, ::VSCodeServer.JSONRPC.MsgDispatcher, ::Dict{String,Any}) at /home/malachi/.vscode/extensions/julialang.language-julia-1.4.3/scripts/packages/JSONRPC/src/typed.jl:67\n",
      " [12] serve_notebook(::String; crashreporting_pipename::String) at /home/malachi/.vscode/extensions/julialang.language-julia-1.4.3/scripts/packages/VSCodeServer/src/serve_notebook.jl:94\n",
      " [13] top-level scope at /home/malachi/.vscode/extensions/julialang.language-julia-1.4.3/scripts/notebook/notebook.jl:10\n",
      " [14] include(::Module, ::String) at ./Base.jl:377\n",
      " [15] exec_options(::Base.JLOptions) at ./client.jl:288\n",
      " [16] _start() at ./client.jl:484"
     ]
    }
   ],
   "source": [
    "savefig(\"schwarz_spectrum_2\")"
   ]
  },
  {
   "cell_type": "markdown",
   "metadata": {},
   "source": [
    "## Spectrum of Symbol, p=4"
   ]
  },
  {
   "cell_type": "code",
   "execution_count": 24,
   "metadata": {},
   "outputs": [
    {
     "ename": "UndefVarError",
     "evalue": "UndefVarError: Schwarz not defined",
     "output_type": "error",
     "traceback": [
      "\n",
      "Stacktrace:\n",
      " [1] top-level scope at /home/malachi/develop/LFAToolkit.jl/papers/copper-mountain-2021/jupyter/1d_schwarz.ipynb:10\n",
      " [2] include_string(::Module, ::String, ::String) at ./loading.jl:1080\n",
      " [3] #invokelatest#1 at ./essentials.jl:712 [inlined]\n",
      " [4] invokelatest at ./essentials.jl:711 [inlined]\n",
      " [5] (::VSCodeServer.var\"#98#99\"{VSCodeServer.NotebookRunCellArguments,String})() at /home/malachi/.vscode/extensions/julialang.language-julia-1.4.3/scripts/packages/VSCodeServer/src/serve_notebook.jl:18\n",
      " [6] withpath(::VSCodeServer.var\"#98#99\"{VSCodeServer.NotebookRunCellArguments,String}, ::String) at /home/malachi/.vscode/extensions/julialang.language-julia-1.4.3/scripts/packages/VSCodeServer/src/repl.jl:185\n",
      " [7] notebook_runcell_request(::VSCodeServer.JSONRPC.JSONRPCEndpoint{Base.PipeEndpoint,Base.PipeEndpoint}, ::VSCodeServer.NotebookRunCellArguments) at /home/malachi/.vscode/extensions/julialang.language-julia-1.4.3/scripts/packages/VSCodeServer/src/serve_notebook.jl:14\n",
      " [8] dispatch_msg(::VSCodeServer.JSONRPC.JSONRPCEndpoint{Base.PipeEndpoint,Base.PipeEndpoint}, ::VSCodeServer.JSONRPC.MsgDispatcher, ::Dict{String,Any}) at /home/malachi/.vscode/extensions/julialang.language-julia-1.4.3/scripts/packages/JSONRPC/src/typed.jl:67\n",
      " [9] serve_notebook(::String; crashreporting_pipename::String) at /home/malachi/.vscode/extensions/julialang.language-julia-1.4.3/scripts/packages/VSCodeServer/src/serve_notebook.jl:94\n",
      " [10] top-level scope at /home/malachi/.vscode/extensions/julialang.language-julia-1.4.3/scripts/notebook/notebook.jl:10\n",
      " [11] include(::Module, ::String) at ./Base.jl:377\n",
      " [12] exec_options(::Base.JLOptions) at ./client.jl:288\n",
      " [13] _start() at ./client.jl:484"
     ]
    }
   ],
   "source": [
    "# setup\n",
    "p = 4\n",
    "dimension = 1\n",
    "mesh = Mesh1D(1.0)\n",
    "\n",
    "# operator\n",
    "diffusion = GalleryOperator(\"diffusion\", p+1, p+1, mesh)\n",
    "\n",
    "# Schwarz smoother\n",
    "schwarz = Schwarz(diffusion)"
   ]
  },
  {
   "cell_type": "code",
   "execution_count": 25,
   "metadata": {
    "code_folding": [
     14,
     16,
     25
    ],
    "scrolled": true
   },
   "outputs": [
    {
     "ename": "UndefVarError",
     "evalue": "UndefVarError: schwarz not defined",
     "output_type": "error",
     "traceback": [
      "\n",
      "Stacktrace:\n",
      " [1] top-level scope at /home/malachi/develop/LFAToolkit.jl/papers/copper-mountain-2021/jupyter/1d_schwarz.ipynb:18\n",
      " [2] include_string(::Module, ::String, ::String) at ./loading.jl:1080\n",
      " [3] #invokelatest#1 at ./essentials.jl:712 [inlined]\n",
      " [4] invokelatest at ./essentials.jl:711 [inlined]\n",
      " [5] (::VSCodeServer.var\"#98#99\"{VSCodeServer.NotebookRunCellArguments,String})() at /home/malachi/.vscode/extensions/julialang.language-julia-1.4.3/scripts/packages/VSCodeServer/src/serve_notebook.jl:18\n",
      " [6] withpath(::VSCodeServer.var\"#98#99\"{VSCodeServer.NotebookRunCellArguments,String}, ::String) at /home/malachi/.vscode/extensions/julialang.language-julia-1.4.3/scripts/packages/VSCodeServer/src/repl.jl:185\n",
      " [7] notebook_runcell_request(::VSCodeServer.JSONRPC.JSONRPCEndpoint{Base.PipeEndpoint,Base.PipeEndpoint}, ::VSCodeServer.NotebookRunCellArguments) at /home/malachi/.vscode/extensions/julialang.language-julia-1.4.3/scripts/packages/VSCodeServer/src/serve_notebook.jl:14\n",
      " [8] dispatch_msg(::VSCodeServer.JSONRPC.JSONRPCEndpoint{Base.PipeEndpoint,Base.PipeEndpoint}, ::VSCodeServer.JSONRPC.MsgDispatcher, ::Dict{String,Any}) at /home/malachi/.vscode/extensions/julialang.language-julia-1.4.3/scripts/packages/JSONRPC/src/typed.jl:67\n",
      " [9] serve_notebook(::String; crashreporting_pipename::String) at /home/malachi/.vscode/extensions/julialang.language-julia-1.4.3/scripts/packages/VSCodeServer/src/serve_notebook.jl:94\n",
      " [10] top-level scope at /home/malachi/.vscode/extensions/julialang.language-julia-1.4.3/scripts/notebook/notebook.jl:10\n",
      " [11] include(::Module, ::String) at ./Base.jl:377\n",
      " [12] exec_options(::Base.JLOptions) at ./client.jl:288\n",
      " [13] _start() at ./client.jl:484"
     ]
    }
   ],
   "source": [
    "# full operator symbols\n",
    "numbersteps = 250\n",
    "maxeigenvalue = 0\n",
    "θ_min = -π/2\n",
    "θ_max = 3π/2\n",
    "θ_step = 2π/(numbersteps-1)\n",
    "θ_range = θ_min:θ_step:θ_max\n",
    "\n",
    "# compute and plot smoothing factor\n",
    "# setup\n",
    "ω = []\n",
    "eigenvalues = zeros(numbersteps, p)\n",
    "\n",
    "# compute\n",
    "for i in 1:numbersteps\n",
    "    θ = [θ_range[i]]\n",
    "    if abs(θ[1]) >  π/512\n",
    "        A = computesymbols(schwarz, ω, θ)\n",
    "        currenteigenvalues = [real(val) for val in eigvals(I-A)]\n",
    "        eigenvalues[i, :] = currenteigenvalues\n",
    "    end\n",
    "end\n",
    "\n",
    "# plot\n",
    "xrange = θ_range/π\n",
    "plot(\n",
    "    xrange,\n",
    "    xlabel=\"θ/π\",\n",
    "    xtickfont=font(12, \"Courier\"),\n",
    "    eigenvalues,\n",
    "    ytickfont=font(12, \"Courier\"),\n",
    "    ylabel=\"λ\",\n",
    "    linewidth=3,\n",
    "    legend=:none,\n",
    "    title=\"Spectrum of Jacobi Symbol\",\n",
    "    palette=palette(:tab10)\n",
    ")\n",
    "ylims!(min(0.0, eigenvalues...) * 1.1, max(eigenvalues...) * 1.1)"
   ]
  },
  {
   "cell_type": "code",
   "execution_count": 26,
   "metadata": {},
   "outputs": [
    {
     "ename": "ErrorException",
     "evalue": "No current plot/subplot",
     "output_type": "error",
     "traceback": [
      "\n",
      "Stacktrace:\n",
      " [1] error(::String) at ./error.jl:33\n",
      " [2] current at /home/malachi/.julia/packages/Plots/uCh2y/src/plot.jl:15 [inlined]\n",
      " [3] savefig(::String) at /home/malachi/.julia/packages/Plots/uCh2y/src/output.jl:129\n",
      " [4] top-level scope at /home/malachi/develop/LFAToolkit.jl/papers/copper-mountain-2021/jupyter/1d_schwarz.ipynb:1\n",
      " [5] include_string(::Module, ::String, ::String) at ./loading.jl:1080\n",
      " [6] #invokelatest#1 at ./essentials.jl:712 [inlined]\n",
      " [7] invokelatest at ./essentials.jl:711 [inlined]\n",
      " [8] (::VSCodeServer.var\"#98#99\"{VSCodeServer.NotebookRunCellArguments,String})() at /home/malachi/.vscode/extensions/julialang.language-julia-1.4.3/scripts/packages/VSCodeServer/src/serve_notebook.jl:18\n",
      " [9] withpath(::VSCodeServer.var\"#98#99\"{VSCodeServer.NotebookRunCellArguments,String}, ::String) at /home/malachi/.vscode/extensions/julialang.language-julia-1.4.3/scripts/packages/VSCodeServer/src/repl.jl:185\n",
      " [10] notebook_runcell_request(::VSCodeServer.JSONRPC.JSONRPCEndpoint{Base.PipeEndpoint,Base.PipeEndpoint}, ::VSCodeServer.NotebookRunCellArguments) at /home/malachi/.vscode/extensions/julialang.language-julia-1.4.3/scripts/packages/VSCodeServer/src/serve_notebook.jl:14\n",
      " [11] dispatch_msg(::VSCodeServer.JSONRPC.JSONRPCEndpoint{Base.PipeEndpoint,Base.PipeEndpoint}, ::VSCodeServer.JSONRPC.MsgDispatcher, ::Dict{String,Any}) at /home/malachi/.vscode/extensions/julialang.language-julia-1.4.3/scripts/packages/JSONRPC/src/typed.jl:67\n",
      " [12] serve_notebook(::String; crashreporting_pipename::String) at /home/malachi/.vscode/extensions/julialang.language-julia-1.4.3/scripts/packages/VSCodeServer/src/serve_notebook.jl:94\n",
      " [13] top-level scope at /home/malachi/.vscode/extensions/julialang.language-julia-1.4.3/scripts/notebook/notebook.jl:10\n",
      " [14] include(::Module, ::String) at ./Base.jl:377\n",
      " [15] exec_options(::Base.JLOptions) at ./client.jl:288\n",
      " [16] _start() at ./client.jl:484"
     ]
    }
   ],
   "source": [
    "savefig(\"schwarz_spectrum_4\")"
   ]
  }
 ],
 "metadata": {
  "kernelspec": {
   "display_name": "Julia 1.5.2",
   "language": "julia",
   "name": "julia-1.5"
  },
  "language_info": {
   "file_extension": ".jl",
   "mimetype": "application/julia",
   "name": "julia",
   "version": "1.5.2"
  }
 },
 "nbformat": 4,
 "nbformat_minor": 4
}
