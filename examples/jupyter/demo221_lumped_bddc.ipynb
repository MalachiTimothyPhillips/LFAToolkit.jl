{
 "cells": [
  {
   "cell_type": "markdown",
   "metadata": {},
   "source": [
    "# Lumped BDDC Example"
   ]
  },
  {
   "cell_type": "code",
   "execution_count": null,
   "metadata": {},
   "outputs": [],
   "source": [
    "# dependencies\n",
    "using Pkg\n",
    "Pkg.activate(\".\")\n",
    "Pkg.instantiate()\n",
    "Pkg.develop(path=\"../..\")\n",
    "using Plots\n",
    "using LFAToolkit\n",
    "using LinearAlgebra"
   ]
  },
  {
   "cell_type": "code",
   "execution_count": null,
   "metadata": {
    "tags": [
     "parameters"
    ]
   },
   "outputs": [],
   "source": [
    "# parameters\n",
    "p           = 3;\n",
    "numbersteps = 100;\n",
    "θ_min       = -π;\n",
    "ω           = [0.2];"
   ]
  },
  {
   "cell_type": "code",
   "execution_count": null,
   "metadata": {
    "code_folding": []
   },
   "outputs": [],
   "source": [
    "# setup\n",
    "mesh = Mesh2D(1.0, 1.0)\n",
    "\n",
    "# diffusion operator\n",
    "diffusion = GalleryOperator(\"diffusion\", p + 1, p + 1, mesh)\n",
    "\n",
    "# bddc smoother\n",
    "bddc = LumpedBDDC(diffusion)"
   ]
  },
  {
   "cell_type": "code",
   "execution_count": null,
   "metadata": {
    "code_folding": [
     8,
     22
    ],
    "scrolled": true
   },
   "outputs": [],
   "source": [
    "# compute full operator symbols\n",
    "(_, eigenvalues, _) = computesymbolsoverrange(bddc, ω, numbersteps; θ_min = θ_min)\n",
    "maxeigenvalues = reshape(maximum(real(eigenvalues); dims = 2), (numbersteps, numbersteps))\n",
    "mineigenvalues = reshape(minimum(real(eigenvalues); dims = 2), (numbersteps, numbersteps))\n",
    "    \n",
    "# plot\n",
    "θ_max = θ_min + 2π\n",
    "θ_range = LinRange(θ_min, θ_max, numbersteps)\n",
    "println(\"max eigenvalue: \", maximum(maxeigenvalues))\n",
    "xrange = θ_range/π\n",
    "plot1 = heatmap(\n",
    "    xrange,\n",
    "    xlabel = \"θ/π\",\n",
    "    xtickfont = font(12, \"Courier\"),\n",
    "    xrange,\n",
    "    ylabel = \"θ/π\",\n",
    "    maxeigenvalues,\n",
    "    ytickfont = font(12, \"Courier\"),\n",
    "    title = \"Lumped BDDC Symbol Maximum Eigenvalues\",\n",
    "    transpose = true,\n",
    "    aspect_ratio = :equal\n",
    ")\n",
    "xlims!(θ_min/π, θ_max/π)\n",
    "ylims!(θ_min/π, θ_max/π)\n",
    "plot2 = heatmap(\n",
    "    xrange,\n",
    "    xlabel = \"θ/π\",\n",
    "    xtickfont = font(12, \"Courier\"),\n",
    "    xrange,\n",
    "    ylabel = \"θ/π\",\n",
    "    mineigenvalues,\n",
    "    ytickfont = font(12, \"Courier\"),\n",
    "    title = \"Lumped BDDC Symbol Minimum Eigevalues\",\n",
    "    transpose = true,\n",
    "    aspect_ratio = :equal\n",
    ")\n",
    "xlims!(θ_min/π, θ_max/π)\n",
    "ylims!(θ_min/π, θ_max/π)\n",
    "plot!(plot1, plot2, layout = (2, 1), size = (700, 1400))"
   ]
  }
 ],
 "metadata": {
  "celltoolbar": "Tags",
  "kernelspec": {
   "display_name": "Julia 1.8.5",
   "language": "julia",
   "name": "julia-1.8"
  },
  "language_info": {
   "file_extension": ".jl",
   "mimetype": "application/julia",
   "name": "julia",
   "version": "1.8.5"
  }
 },
 "nbformat": 4,
 "nbformat_minor": 4
}
