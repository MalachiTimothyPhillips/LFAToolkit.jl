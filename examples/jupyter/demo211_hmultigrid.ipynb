{
 "cells": [
  {
   "cell_type": "markdown",
   "metadata": {},
   "source": [
    "# Two-grid H-multigrid Example"
   ]
  },
  {
   "cell_type": "code",
   "execution_count": null,
   "metadata": {},
   "outputs": [],
   "source": [
    "# dependencies\n",
    "using Pkg\n",
    "Pkg.activate(\".\")\n",
    "Pkg.instantiate()\n",
    "Pkg.develop(path=\"../..\")\n",
    "using Plots\n",
    "using LFAToolkit\n",
    "using LinearAlgebra"
   ]
  },
  {
   "cell_type": "code",
   "execution_count": null,
   "metadata": {
    "tags": [
     "parameters"
    ]
   },
   "outputs": [],
   "source": [
    "# parameters\n",
    "p                = 1;\n",
    "numbercomponents = 1;\n",
    "dimension        = 1;\n",
    "numbersteps      = 100;\n",
    "θ_min            = -π;\n",
    "chebyshevp       = [2];\n",
    "v                = [1, 1];"
   ]
  },
  {
   "cell_type": "code",
   "execution_count": null,
   "metadata": {
    "code_folding": []
   },
   "outputs": [],
   "source": [
    "#setup\n",
    "mesh = []\n",
    "if dimension == 1\n",
    "   mesh = Mesh1D(1.0)\n",
    "elseif dimension == 2\n",
    "   mesh = Mesh2D(1.0, 1.0)\n",
    "end\n",
    "\n",
    "numberfineelements1d = 2\n",
    "ctofbasis = TensorH1LagrangeHProlongationBasis(p + 1, numbercomponents, dimension, numberfineelements1d)\n",
    "\n",
    "# operators\n",
    "finediffusion = GalleryMacroElementOperator(\"diffusion\", p + 1, p + 2, numberfineelements1d, mesh)\n",
    "coarsediffusion = GalleryOperator(\"diffusion\", p + 1, p + 2, mesh)\n",
    "\n",
    "# Chebyshev smoother\n",
    "chebyshev = Chebyshev(finediffusion)\n",
    "\n",
    "# h-multigrid preconditioner\n",
    "multigrid = HMultigrid(finediffusion, coarsediffusion, chebyshev, [ctofbasis])"
   ]
  },
  {
   "cell_type": "code",
   "execution_count": null,
   "metadata": {
    "code_folding": [
     2,
     11,
     25,
     36,
     50
    ]
   },
   "outputs": [],
   "source": [
    "# compute and plot smoothing factor\n",
    "# -- 1D --\n",
    "if dimension == 1\n",
    "    # compute\n",
    "    (θ_range, eigenvalues, _) = computesymbolsoverrange(multigrid, chebyshevp, v, numbersteps; θ_min = θ_min)\n",
    "    maxeigenvalues = maximum(real(eigenvalues); dims = 2)\n",
    "    mineigenvalues = minimum(real(eigenvalues); dims = 2)\n",
    "\n",
    "    # plot\n",
    "    println(\"max eigenvalue: \", maximum(maxeigenvalues))\n",
    "    xrange = θ_range/π\n",
    "    plot(\n",
    "        xrange,\n",
    "        xlabel = \"θ/π\",\n",
    "        xtickfont = font(12, \"Courier\"),\n",
    "        [maxeigenvalues, mineigenvalues],\n",
    "        ytickfont = font(12, \"Courier\"),\n",
    "        ylabel = \"spectral radius\",\n",
    "        linewidth = 3,\n",
    "        legend = :none,\n",
    "        title = \"H-Multigrid Symbol Maximal Eigenvalues\"\n",
    "    )\n",
    "    ymin = minimum(mineigenvalues)\n",
    "    ylims!(minimum([0, ymin * 1.1]), maximum(maxeigenvalues) * 1.1)\n",
    "# -- 2D --\n",
    "elseif dimension == 2\n",
    "    # compute\n",
    "    (_, eigenvalues, _) = computesymbolsoverrange(multigrid, chebyshevp, v, numbersteps; θ_min = θ_min)\n",
    "    maxeigenvalues = reshape(maximum(real(eigenvalues); dims = 2), (numbersteps, numbersteps))\n",
    "    mineigenvalues = reshape(minimum(real(eigenvalues); dims = 2), (numbersteps, numbersteps))\n",
    "    \n",
    "    # plot\n",
    "    θ_max = θ_min + 2π\n",
    "    θ_range = LinRange(θ_min, θ_max, numbersteps)\n",
    "    println(\"max eigenvalue: \", maximum(maxeigenvalues))\n",
    "    xrange = θ_range/π\n",
    "    plot1 = heatmap(\n",
    "        xrange,\n",
    "        xlabel = \"θ/π\",\n",
    "        xtickfont = font(12, \"Courier\"),\n",
    "        xrange,\n",
    "        ylabel = \"θ/π\",\n",
    "        maxeigenvalues,\n",
    "        ytickfont = font(12, \"Courier\"),\n",
    "        title = \"H-Multigrid Symbol Maximum Eigenvalues\",\n",
    "        transpose = true,\n",
    "        aspect_ratio = :equal\n",
    "    )\n",
    "    xlims!(θ_min/π, θ_max/π)\n",
    "    ylims!(θ_min/π, θ_max/π)\n",
    "    plot2 = heatmap(\n",
    "        xrange,\n",
    "        xlabel = \"θ/π\",\n",
    "        xtickfont = font(12, \"Courier\"),\n",
    "        xrange,\n",
    "        ylabel = \"θ/π\",\n",
    "        mineigenvalues,\n",
    "        ytickfont = font(12, \"Courier\"),\n",
    "        title = \"H-Multigrid Symbol Minimum Eigevalues\",\n",
    "        transpose = true,\n",
    "        aspect_ratio = :equal\n",
    "    )\n",
    "    xlims!(θ_min/π, θ_max/π)\n",
    "    ylims!(θ_min/π, θ_max/π)\n",
    "    plot!(plot1, plot2, layout = (2, 1), size = (700, 1400))\n",
    "end"
   ]
  }
 ],
 "metadata": {
  "celltoolbar": "Tags",
  "kernelspec": {
   "display_name": "Julia 1.8.5",
   "language": "julia",
   "name": "julia-1.8"
  },
  "language_info": {
   "file_extension": ".jl",
   "mimetype": "application/julia",
   "name": "julia",
   "version": "1.8.5"
  }
 },
 "nbformat": 4,
 "nbformat_minor": 4
}
